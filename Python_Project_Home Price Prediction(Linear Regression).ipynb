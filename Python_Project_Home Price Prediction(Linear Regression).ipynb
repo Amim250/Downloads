{
 "cells": [
  {
   "cell_type": "code",
   "execution_count": 1,
   "id": "7ab86b37",
   "metadata": {},
   "outputs": [],
   "source": [
    "import numpy as np\n",
    "import pandas as pd\n",
    "import matplotlib.pyplot as plt\n",
    "from sklearn.metrics import mean_squared_error,r2_score, mean_absolute_error\n",
    "from sklearn.linear_model import Ridge\n",
    "from sklearn.linear_model import Lasso\n",
    "from sklearn.linear_model import ElasticNet"
   ]
  },
  {
   "cell_type": "code",
   "execution_count": 2,
   "id": "d98cacee",
   "metadata": {},
   "outputs": [],
   "source": [
    "df = pd.read_csv(\"Python_Linear_Regres (1).csv\")"
   ]
  },
  {
   "cell_type": "code",
   "execution_count": 3,
   "id": "17436402",
   "metadata": {},
   "outputs": [
    {
     "data": {
      "text/html": [
       "<div>\n",
       "<style scoped>\n",
       "    .dataframe tbody tr th:only-of-type {\n",
       "        vertical-align: middle;\n",
       "    }\n",
       "\n",
       "    .dataframe tbody tr th {\n",
       "        vertical-align: top;\n",
       "    }\n",
       "\n",
       "    .dataframe thead th {\n",
       "        text-align: right;\n",
       "    }\n",
       "</style>\n",
       "<table border=\"1\" class=\"dataframe\">\n",
       "  <thead>\n",
       "    <tr style=\"text-align: right;\">\n",
       "      <th></th>\n",
       "      <th>Suburb</th>\n",
       "      <th>Address</th>\n",
       "      <th>Rooms</th>\n",
       "      <th>Type</th>\n",
       "      <th>Price</th>\n",
       "      <th>Method</th>\n",
       "      <th>SellerG</th>\n",
       "      <th>Date</th>\n",
       "      <th>Distance</th>\n",
       "      <th>Postcode</th>\n",
       "      <th>...</th>\n",
       "      <th>Bathroom</th>\n",
       "      <th>Car</th>\n",
       "      <th>Landsize</th>\n",
       "      <th>BuildingArea</th>\n",
       "      <th>YearBuilt</th>\n",
       "      <th>CouncilArea</th>\n",
       "      <th>Lattitude</th>\n",
       "      <th>Longtitude</th>\n",
       "      <th>Regionname</th>\n",
       "      <th>Propertycount</th>\n",
       "    </tr>\n",
       "  </thead>\n",
       "  <tbody>\n",
       "    <tr>\n",
       "      <th>0</th>\n",
       "      <td>Abbotsford</td>\n",
       "      <td>68 Studley St</td>\n",
       "      <td>2</td>\n",
       "      <td>h</td>\n",
       "      <td>NaN</td>\n",
       "      <td>SS</td>\n",
       "      <td>Jellis</td>\n",
       "      <td>03/09/2016</td>\n",
       "      <td>2.5</td>\n",
       "      <td>3067.0</td>\n",
       "      <td>...</td>\n",
       "      <td>1.0</td>\n",
       "      <td>1.0</td>\n",
       "      <td>126.0</td>\n",
       "      <td>NaN</td>\n",
       "      <td>NaN</td>\n",
       "      <td>Yarra City Council</td>\n",
       "      <td>-37.8014</td>\n",
       "      <td>144.9958</td>\n",
       "      <td>Northern Metropolitan</td>\n",
       "      <td>4019.0</td>\n",
       "    </tr>\n",
       "    <tr>\n",
       "      <th>1</th>\n",
       "      <td>Abbotsford</td>\n",
       "      <td>85 Turner St</td>\n",
       "      <td>2</td>\n",
       "      <td>h</td>\n",
       "      <td>1480000.0</td>\n",
       "      <td>S</td>\n",
       "      <td>Biggin</td>\n",
       "      <td>03/12/2016</td>\n",
       "      <td>2.5</td>\n",
       "      <td>3067.0</td>\n",
       "      <td>...</td>\n",
       "      <td>1.0</td>\n",
       "      <td>1.0</td>\n",
       "      <td>202.0</td>\n",
       "      <td>NaN</td>\n",
       "      <td>NaN</td>\n",
       "      <td>Yarra City Council</td>\n",
       "      <td>-37.7996</td>\n",
       "      <td>144.9984</td>\n",
       "      <td>Northern Metropolitan</td>\n",
       "      <td>4019.0</td>\n",
       "    </tr>\n",
       "    <tr>\n",
       "      <th>2</th>\n",
       "      <td>Abbotsford</td>\n",
       "      <td>25 Bloomburg St</td>\n",
       "      <td>2</td>\n",
       "      <td>h</td>\n",
       "      <td>1035000.0</td>\n",
       "      <td>S</td>\n",
       "      <td>Biggin</td>\n",
       "      <td>04/02/2016</td>\n",
       "      <td>2.5</td>\n",
       "      <td>3067.0</td>\n",
       "      <td>...</td>\n",
       "      <td>1.0</td>\n",
       "      <td>0.0</td>\n",
       "      <td>156.0</td>\n",
       "      <td>79.0</td>\n",
       "      <td>1900.0</td>\n",
       "      <td>Yarra City Council</td>\n",
       "      <td>-37.8079</td>\n",
       "      <td>144.9934</td>\n",
       "      <td>Northern Metropolitan</td>\n",
       "      <td>4019.0</td>\n",
       "    </tr>\n",
       "    <tr>\n",
       "      <th>3</th>\n",
       "      <td>Abbotsford</td>\n",
       "      <td>18/659 Victoria St</td>\n",
       "      <td>3</td>\n",
       "      <td>u</td>\n",
       "      <td>NaN</td>\n",
       "      <td>VB</td>\n",
       "      <td>Rounds</td>\n",
       "      <td>04/02/2016</td>\n",
       "      <td>2.5</td>\n",
       "      <td>3067.0</td>\n",
       "      <td>...</td>\n",
       "      <td>2.0</td>\n",
       "      <td>1.0</td>\n",
       "      <td>0.0</td>\n",
       "      <td>NaN</td>\n",
       "      <td>NaN</td>\n",
       "      <td>Yarra City Council</td>\n",
       "      <td>-37.8114</td>\n",
       "      <td>145.0116</td>\n",
       "      <td>Northern Metropolitan</td>\n",
       "      <td>4019.0</td>\n",
       "    </tr>\n",
       "    <tr>\n",
       "      <th>4</th>\n",
       "      <td>Abbotsford</td>\n",
       "      <td>5 Charles St</td>\n",
       "      <td>3</td>\n",
       "      <td>h</td>\n",
       "      <td>1465000.0</td>\n",
       "      <td>SP</td>\n",
       "      <td>Biggin</td>\n",
       "      <td>04/03/2017</td>\n",
       "      <td>2.5</td>\n",
       "      <td>3067.0</td>\n",
       "      <td>...</td>\n",
       "      <td>2.0</td>\n",
       "      <td>0.0</td>\n",
       "      <td>134.0</td>\n",
       "      <td>150.0</td>\n",
       "      <td>1900.0</td>\n",
       "      <td>Yarra City Council</td>\n",
       "      <td>-37.8093</td>\n",
       "      <td>144.9944</td>\n",
       "      <td>Northern Metropolitan</td>\n",
       "      <td>4019.0</td>\n",
       "    </tr>\n",
       "  </tbody>\n",
       "</table>\n",
       "<p>5 rows × 21 columns</p>\n",
       "</div>"
      ],
      "text/plain": [
       "       Suburb             Address  Rooms Type      Price Method SellerG  \\\n",
       "0  Abbotsford       68 Studley St      2    h        NaN     SS  Jellis   \n",
       "1  Abbotsford        85 Turner St      2    h  1480000.0      S  Biggin   \n",
       "2  Abbotsford     25 Bloomburg St      2    h  1035000.0      S  Biggin   \n",
       "3  Abbotsford  18/659 Victoria St      3    u        NaN     VB  Rounds   \n",
       "4  Abbotsford        5 Charles St      3    h  1465000.0     SP  Biggin   \n",
       "\n",
       "         Date  Distance  Postcode  ...  Bathroom  Car  Landsize  BuildingArea  \\\n",
       "0  03/09/2016       2.5    3067.0  ...       1.0  1.0     126.0           NaN   \n",
       "1  03/12/2016       2.5    3067.0  ...       1.0  1.0     202.0           NaN   \n",
       "2  04/02/2016       2.5    3067.0  ...       1.0  0.0     156.0          79.0   \n",
       "3  04/02/2016       2.5    3067.0  ...       2.0  1.0       0.0           NaN   \n",
       "4  04/03/2017       2.5    3067.0  ...       2.0  0.0     134.0         150.0   \n",
       "\n",
       "   YearBuilt         CouncilArea Lattitude  Longtitude             Regionname  \\\n",
       "0        NaN  Yarra City Council  -37.8014    144.9958  Northern Metropolitan   \n",
       "1        NaN  Yarra City Council  -37.7996    144.9984  Northern Metropolitan   \n",
       "2     1900.0  Yarra City Council  -37.8079    144.9934  Northern Metropolitan   \n",
       "3        NaN  Yarra City Council  -37.8114    145.0116  Northern Metropolitan   \n",
       "4     1900.0  Yarra City Council  -37.8093    144.9944  Northern Metropolitan   \n",
       "\n",
       "  Propertycount  \n",
       "0        4019.0  \n",
       "1        4019.0  \n",
       "2        4019.0  \n",
       "3        4019.0  \n",
       "4        4019.0  \n",
       "\n",
       "[5 rows x 21 columns]"
      ]
     },
     "execution_count": 3,
     "metadata": {},
     "output_type": "execute_result"
    }
   ],
   "source": [
    "df.head()"
   ]
  },
  {
   "cell_type": "code",
   "execution_count": 4,
   "id": "410ebe63",
   "metadata": {},
   "outputs": [
    {
     "name": "stdout",
     "output_type": "stream",
     "text": [
      "<class 'pandas.core.frame.DataFrame'>\n",
      "RangeIndex: 34857 entries, 0 to 34856\n",
      "Data columns (total 21 columns):\n",
      " #   Column         Non-Null Count  Dtype  \n",
      "---  ------         --------------  -----  \n",
      " 0   Suburb         34857 non-null  object \n",
      " 1   Address        34857 non-null  object \n",
      " 2   Rooms          34857 non-null  int64  \n",
      " 3   Type           34857 non-null  object \n",
      " 4   Price          27247 non-null  float64\n",
      " 5   Method         34857 non-null  object \n",
      " 6   SellerG        34857 non-null  object \n",
      " 7   Date           34857 non-null  object \n",
      " 8   Distance       34856 non-null  float64\n",
      " 9   Postcode       34856 non-null  float64\n",
      " 10  Bedroom2       26640 non-null  float64\n",
      " 11  Bathroom       26631 non-null  float64\n",
      " 12  Car            26129 non-null  float64\n",
      " 13  Landsize       23047 non-null  float64\n",
      " 14  BuildingArea   13742 non-null  float64\n",
      " 15  YearBuilt      15551 non-null  float64\n",
      " 16  CouncilArea    34854 non-null  object \n",
      " 17  Lattitude      26881 non-null  float64\n",
      " 18  Longtitude     26881 non-null  float64\n",
      " 19  Regionname     34854 non-null  object \n",
      " 20  Propertycount  34854 non-null  float64\n",
      "dtypes: float64(12), int64(1), object(8)\n",
      "memory usage: 4.5+ MB\n"
     ]
    }
   ],
   "source": [
    "df.info()"
   ]
  },
  {
   "cell_type": "code",
   "execution_count": 5,
   "id": "245d5e31",
   "metadata": {},
   "outputs": [
    {
     "data": {
      "text/plain": [
       "(34857, 21)"
      ]
     },
     "execution_count": 5,
     "metadata": {},
     "output_type": "execute_result"
    }
   ],
   "source": [
    "df.shape"
   ]
  },
  {
   "cell_type": "code",
   "execution_count": 6,
   "id": "2a5a619c",
   "metadata": {},
   "outputs": [
    {
     "data": {
      "text/html": [
       "<div>\n",
       "<style scoped>\n",
       "    .dataframe tbody tr th:only-of-type {\n",
       "        vertical-align: middle;\n",
       "    }\n",
       "\n",
       "    .dataframe tbody tr th {\n",
       "        vertical-align: top;\n",
       "    }\n",
       "\n",
       "    .dataframe thead th {\n",
       "        text-align: right;\n",
       "    }\n",
       "</style>\n",
       "<table border=\"1\" class=\"dataframe\">\n",
       "  <thead>\n",
       "    <tr style=\"text-align: right;\">\n",
       "      <th></th>\n",
       "      <th>Rooms</th>\n",
       "      <th>Price</th>\n",
       "      <th>Distance</th>\n",
       "      <th>Postcode</th>\n",
       "      <th>Bedroom2</th>\n",
       "      <th>Bathroom</th>\n",
       "      <th>Car</th>\n",
       "      <th>Landsize</th>\n",
       "      <th>BuildingArea</th>\n",
       "      <th>YearBuilt</th>\n",
       "      <th>Lattitude</th>\n",
       "      <th>Longtitude</th>\n",
       "      <th>Propertycount</th>\n",
       "    </tr>\n",
       "  </thead>\n",
       "  <tbody>\n",
       "    <tr>\n",
       "      <th>count</th>\n",
       "      <td>34857.000000</td>\n",
       "      <td>2.724700e+04</td>\n",
       "      <td>34856.000000</td>\n",
       "      <td>34856.000000</td>\n",
       "      <td>26640.000000</td>\n",
       "      <td>26631.000000</td>\n",
       "      <td>26129.000000</td>\n",
       "      <td>23047.000000</td>\n",
       "      <td>13742.00000</td>\n",
       "      <td>15551.000000</td>\n",
       "      <td>26881.000000</td>\n",
       "      <td>26881.000000</td>\n",
       "      <td>34854.000000</td>\n",
       "    </tr>\n",
       "    <tr>\n",
       "      <th>mean</th>\n",
       "      <td>3.031012</td>\n",
       "      <td>1.050173e+06</td>\n",
       "      <td>11.184929</td>\n",
       "      <td>3116.062859</td>\n",
       "      <td>3.084647</td>\n",
       "      <td>1.624798</td>\n",
       "      <td>1.728845</td>\n",
       "      <td>593.598993</td>\n",
       "      <td>160.25640</td>\n",
       "      <td>1965.289885</td>\n",
       "      <td>-37.810634</td>\n",
       "      <td>145.001851</td>\n",
       "      <td>7572.888306</td>\n",
       "    </tr>\n",
       "    <tr>\n",
       "      <th>std</th>\n",
       "      <td>0.969933</td>\n",
       "      <td>6.414671e+05</td>\n",
       "      <td>6.788892</td>\n",
       "      <td>109.023903</td>\n",
       "      <td>0.980690</td>\n",
       "      <td>0.724212</td>\n",
       "      <td>1.010771</td>\n",
       "      <td>3398.841946</td>\n",
       "      <td>401.26706</td>\n",
       "      <td>37.328178</td>\n",
       "      <td>0.090279</td>\n",
       "      <td>0.120169</td>\n",
       "      <td>4428.090313</td>\n",
       "    </tr>\n",
       "    <tr>\n",
       "      <th>min</th>\n",
       "      <td>1.000000</td>\n",
       "      <td>8.500000e+04</td>\n",
       "      <td>0.000000</td>\n",
       "      <td>3000.000000</td>\n",
       "      <td>0.000000</td>\n",
       "      <td>0.000000</td>\n",
       "      <td>0.000000</td>\n",
       "      <td>0.000000</td>\n",
       "      <td>0.00000</td>\n",
       "      <td>1196.000000</td>\n",
       "      <td>-38.190430</td>\n",
       "      <td>144.423790</td>\n",
       "      <td>83.000000</td>\n",
       "    </tr>\n",
       "    <tr>\n",
       "      <th>25%</th>\n",
       "      <td>2.000000</td>\n",
       "      <td>6.350000e+05</td>\n",
       "      <td>6.400000</td>\n",
       "      <td>3051.000000</td>\n",
       "      <td>2.000000</td>\n",
       "      <td>1.000000</td>\n",
       "      <td>1.000000</td>\n",
       "      <td>224.000000</td>\n",
       "      <td>102.00000</td>\n",
       "      <td>1940.000000</td>\n",
       "      <td>-37.862950</td>\n",
       "      <td>144.933500</td>\n",
       "      <td>4385.000000</td>\n",
       "    </tr>\n",
       "    <tr>\n",
       "      <th>50%</th>\n",
       "      <td>3.000000</td>\n",
       "      <td>8.700000e+05</td>\n",
       "      <td>10.300000</td>\n",
       "      <td>3103.000000</td>\n",
       "      <td>3.000000</td>\n",
       "      <td>2.000000</td>\n",
       "      <td>2.000000</td>\n",
       "      <td>521.000000</td>\n",
       "      <td>136.00000</td>\n",
       "      <td>1970.000000</td>\n",
       "      <td>-37.807600</td>\n",
       "      <td>145.007800</td>\n",
       "      <td>6763.000000</td>\n",
       "    </tr>\n",
       "    <tr>\n",
       "      <th>75%</th>\n",
       "      <td>4.000000</td>\n",
       "      <td>1.295000e+06</td>\n",
       "      <td>14.000000</td>\n",
       "      <td>3156.000000</td>\n",
       "      <td>4.000000</td>\n",
       "      <td>2.000000</td>\n",
       "      <td>2.000000</td>\n",
       "      <td>670.000000</td>\n",
       "      <td>188.00000</td>\n",
       "      <td>2000.000000</td>\n",
       "      <td>-37.754100</td>\n",
       "      <td>145.071900</td>\n",
       "      <td>10412.000000</td>\n",
       "    </tr>\n",
       "    <tr>\n",
       "      <th>max</th>\n",
       "      <td>16.000000</td>\n",
       "      <td>1.120000e+07</td>\n",
       "      <td>48.100000</td>\n",
       "      <td>3978.000000</td>\n",
       "      <td>30.000000</td>\n",
       "      <td>12.000000</td>\n",
       "      <td>26.000000</td>\n",
       "      <td>433014.000000</td>\n",
       "      <td>44515.00000</td>\n",
       "      <td>2106.000000</td>\n",
       "      <td>-37.390200</td>\n",
       "      <td>145.526350</td>\n",
       "      <td>21650.000000</td>\n",
       "    </tr>\n",
       "  </tbody>\n",
       "</table>\n",
       "</div>"
      ],
      "text/plain": [
       "              Rooms         Price      Distance      Postcode      Bedroom2  \\\n",
       "count  34857.000000  2.724700e+04  34856.000000  34856.000000  26640.000000   \n",
       "mean       3.031012  1.050173e+06     11.184929   3116.062859      3.084647   \n",
       "std        0.969933  6.414671e+05      6.788892    109.023903      0.980690   \n",
       "min        1.000000  8.500000e+04      0.000000   3000.000000      0.000000   \n",
       "25%        2.000000  6.350000e+05      6.400000   3051.000000      2.000000   \n",
       "50%        3.000000  8.700000e+05     10.300000   3103.000000      3.000000   \n",
       "75%        4.000000  1.295000e+06     14.000000   3156.000000      4.000000   \n",
       "max       16.000000  1.120000e+07     48.100000   3978.000000     30.000000   \n",
       "\n",
       "           Bathroom           Car       Landsize  BuildingArea     YearBuilt  \\\n",
       "count  26631.000000  26129.000000   23047.000000   13742.00000  15551.000000   \n",
       "mean       1.624798      1.728845     593.598993     160.25640   1965.289885   \n",
       "std        0.724212      1.010771    3398.841946     401.26706     37.328178   \n",
       "min        0.000000      0.000000       0.000000       0.00000   1196.000000   \n",
       "25%        1.000000      1.000000     224.000000     102.00000   1940.000000   \n",
       "50%        2.000000      2.000000     521.000000     136.00000   1970.000000   \n",
       "75%        2.000000      2.000000     670.000000     188.00000   2000.000000   \n",
       "max       12.000000     26.000000  433014.000000   44515.00000   2106.000000   \n",
       "\n",
       "          Lattitude    Longtitude  Propertycount  \n",
       "count  26881.000000  26881.000000   34854.000000  \n",
       "mean     -37.810634    145.001851    7572.888306  \n",
       "std        0.090279      0.120169    4428.090313  \n",
       "min      -38.190430    144.423790      83.000000  \n",
       "25%      -37.862950    144.933500    4385.000000  \n",
       "50%      -37.807600    145.007800    6763.000000  \n",
       "75%      -37.754100    145.071900   10412.000000  \n",
       "max      -37.390200    145.526350   21650.000000  "
      ]
     },
     "execution_count": 6,
     "metadata": {},
     "output_type": "execute_result"
    }
   ],
   "source": [
    "df.describe()"
   ]
  },
  {
   "cell_type": "code",
   "execution_count": 8,
   "id": "7a028da2",
   "metadata": {},
   "outputs": [
    {
     "data": {
      "text/plain": [
       "Index(['Suburb', 'Address', 'Rooms', 'Type', 'Price', 'Method', 'SellerG',\n",
       "       'Date', 'Distance', 'Postcode', 'Bedroom2', 'Bathroom', 'Car',\n",
       "       'Landsize', 'BuildingArea', 'YearBuilt', 'CouncilArea', 'Lattitude',\n",
       "       'Longtitude', 'Regionname', 'Propertycount'],\n",
       "      dtype='object')"
      ]
     },
     "execution_count": 8,
     "metadata": {},
     "output_type": "execute_result"
    }
   ],
   "source": [
    "df.columns"
   ]
  },
  {
   "cell_type": "code",
   "execution_count": 9,
   "id": "e6e76af5",
   "metadata": {},
   "outputs": [],
   "source": [
    "df = df.drop(['Address','Date','Postcode','YearBuilt',\"Lattitude\",\"Longtitude\"],axis=1)"
   ]
  },
  {
   "cell_type": "code",
   "execution_count": 10,
   "id": "db93f1b3",
   "metadata": {},
   "outputs": [
    {
     "data": {
      "text/html": [
       "<div>\n",
       "<style scoped>\n",
       "    .dataframe tbody tr th:only-of-type {\n",
       "        vertical-align: middle;\n",
       "    }\n",
       "\n",
       "    .dataframe tbody tr th {\n",
       "        vertical-align: top;\n",
       "    }\n",
       "\n",
       "    .dataframe thead th {\n",
       "        text-align: right;\n",
       "    }\n",
       "</style>\n",
       "<table border=\"1\" class=\"dataframe\">\n",
       "  <thead>\n",
       "    <tr style=\"text-align: right;\">\n",
       "      <th></th>\n",
       "      <th>Suburb</th>\n",
       "      <th>Rooms</th>\n",
       "      <th>Type</th>\n",
       "      <th>Price</th>\n",
       "      <th>Method</th>\n",
       "      <th>SellerG</th>\n",
       "      <th>Distance</th>\n",
       "      <th>Bedroom2</th>\n",
       "      <th>Bathroom</th>\n",
       "      <th>Car</th>\n",
       "      <th>Landsize</th>\n",
       "      <th>BuildingArea</th>\n",
       "      <th>CouncilArea</th>\n",
       "      <th>Regionname</th>\n",
       "      <th>Propertycount</th>\n",
       "    </tr>\n",
       "  </thead>\n",
       "  <tbody>\n",
       "    <tr>\n",
       "      <th>0</th>\n",
       "      <td>Abbotsford</td>\n",
       "      <td>2</td>\n",
       "      <td>h</td>\n",
       "      <td>NaN</td>\n",
       "      <td>SS</td>\n",
       "      <td>Jellis</td>\n",
       "      <td>2.5</td>\n",
       "      <td>2.0</td>\n",
       "      <td>1.0</td>\n",
       "      <td>1.0</td>\n",
       "      <td>126.0</td>\n",
       "      <td>NaN</td>\n",
       "      <td>Yarra City Council</td>\n",
       "      <td>Northern Metropolitan</td>\n",
       "      <td>4019.0</td>\n",
       "    </tr>\n",
       "    <tr>\n",
       "      <th>1</th>\n",
       "      <td>Abbotsford</td>\n",
       "      <td>2</td>\n",
       "      <td>h</td>\n",
       "      <td>1480000.0</td>\n",
       "      <td>S</td>\n",
       "      <td>Biggin</td>\n",
       "      <td>2.5</td>\n",
       "      <td>2.0</td>\n",
       "      <td>1.0</td>\n",
       "      <td>1.0</td>\n",
       "      <td>202.0</td>\n",
       "      <td>NaN</td>\n",
       "      <td>Yarra City Council</td>\n",
       "      <td>Northern Metropolitan</td>\n",
       "      <td>4019.0</td>\n",
       "    </tr>\n",
       "    <tr>\n",
       "      <th>2</th>\n",
       "      <td>Abbotsford</td>\n",
       "      <td>2</td>\n",
       "      <td>h</td>\n",
       "      <td>1035000.0</td>\n",
       "      <td>S</td>\n",
       "      <td>Biggin</td>\n",
       "      <td>2.5</td>\n",
       "      <td>2.0</td>\n",
       "      <td>1.0</td>\n",
       "      <td>0.0</td>\n",
       "      <td>156.0</td>\n",
       "      <td>79.0</td>\n",
       "      <td>Yarra City Council</td>\n",
       "      <td>Northern Metropolitan</td>\n",
       "      <td>4019.0</td>\n",
       "    </tr>\n",
       "    <tr>\n",
       "      <th>3</th>\n",
       "      <td>Abbotsford</td>\n",
       "      <td>3</td>\n",
       "      <td>u</td>\n",
       "      <td>NaN</td>\n",
       "      <td>VB</td>\n",
       "      <td>Rounds</td>\n",
       "      <td>2.5</td>\n",
       "      <td>3.0</td>\n",
       "      <td>2.0</td>\n",
       "      <td>1.0</td>\n",
       "      <td>0.0</td>\n",
       "      <td>NaN</td>\n",
       "      <td>Yarra City Council</td>\n",
       "      <td>Northern Metropolitan</td>\n",
       "      <td>4019.0</td>\n",
       "    </tr>\n",
       "    <tr>\n",
       "      <th>4</th>\n",
       "      <td>Abbotsford</td>\n",
       "      <td>3</td>\n",
       "      <td>h</td>\n",
       "      <td>1465000.0</td>\n",
       "      <td>SP</td>\n",
       "      <td>Biggin</td>\n",
       "      <td>2.5</td>\n",
       "      <td>3.0</td>\n",
       "      <td>2.0</td>\n",
       "      <td>0.0</td>\n",
       "      <td>134.0</td>\n",
       "      <td>150.0</td>\n",
       "      <td>Yarra City Council</td>\n",
       "      <td>Northern Metropolitan</td>\n",
       "      <td>4019.0</td>\n",
       "    </tr>\n",
       "    <tr>\n",
       "      <th>...</th>\n",
       "      <td>...</td>\n",
       "      <td>...</td>\n",
       "      <td>...</td>\n",
       "      <td>...</td>\n",
       "      <td>...</td>\n",
       "      <td>...</td>\n",
       "      <td>...</td>\n",
       "      <td>...</td>\n",
       "      <td>...</td>\n",
       "      <td>...</td>\n",
       "      <td>...</td>\n",
       "      <td>...</td>\n",
       "      <td>...</td>\n",
       "      <td>...</td>\n",
       "      <td>...</td>\n",
       "    </tr>\n",
       "    <tr>\n",
       "      <th>34852</th>\n",
       "      <td>Yarraville</td>\n",
       "      <td>4</td>\n",
       "      <td>h</td>\n",
       "      <td>1480000.0</td>\n",
       "      <td>PI</td>\n",
       "      <td>Jas</td>\n",
       "      <td>6.3</td>\n",
       "      <td>4.0</td>\n",
       "      <td>1.0</td>\n",
       "      <td>3.0</td>\n",
       "      <td>593.0</td>\n",
       "      <td>NaN</td>\n",
       "      <td>Maribyrnong City Council</td>\n",
       "      <td>Western Metropolitan</td>\n",
       "      <td>6543.0</td>\n",
       "    </tr>\n",
       "    <tr>\n",
       "      <th>34853</th>\n",
       "      <td>Yarraville</td>\n",
       "      <td>2</td>\n",
       "      <td>h</td>\n",
       "      <td>888000.0</td>\n",
       "      <td>SP</td>\n",
       "      <td>Sweeney</td>\n",
       "      <td>6.3</td>\n",
       "      <td>2.0</td>\n",
       "      <td>2.0</td>\n",
       "      <td>1.0</td>\n",
       "      <td>98.0</td>\n",
       "      <td>104.0</td>\n",
       "      <td>Maribyrnong City Council</td>\n",
       "      <td>Western Metropolitan</td>\n",
       "      <td>6543.0</td>\n",
       "    </tr>\n",
       "    <tr>\n",
       "      <th>34854</th>\n",
       "      <td>Yarraville</td>\n",
       "      <td>2</td>\n",
       "      <td>t</td>\n",
       "      <td>705000.0</td>\n",
       "      <td>S</td>\n",
       "      <td>Jas</td>\n",
       "      <td>6.3</td>\n",
       "      <td>2.0</td>\n",
       "      <td>1.0</td>\n",
       "      <td>2.0</td>\n",
       "      <td>220.0</td>\n",
       "      <td>120.0</td>\n",
       "      <td>Maribyrnong City Council</td>\n",
       "      <td>Western Metropolitan</td>\n",
       "      <td>6543.0</td>\n",
       "    </tr>\n",
       "    <tr>\n",
       "      <th>34855</th>\n",
       "      <td>Yarraville</td>\n",
       "      <td>3</td>\n",
       "      <td>h</td>\n",
       "      <td>1140000.0</td>\n",
       "      <td>SP</td>\n",
       "      <td>hockingstuart</td>\n",
       "      <td>6.3</td>\n",
       "      <td>NaN</td>\n",
       "      <td>NaN</td>\n",
       "      <td>NaN</td>\n",
       "      <td>NaN</td>\n",
       "      <td>NaN</td>\n",
       "      <td>Maribyrnong City Council</td>\n",
       "      <td>Western Metropolitan</td>\n",
       "      <td>6543.0</td>\n",
       "    </tr>\n",
       "    <tr>\n",
       "      <th>34856</th>\n",
       "      <td>Yarraville</td>\n",
       "      <td>2</td>\n",
       "      <td>h</td>\n",
       "      <td>1020000.0</td>\n",
       "      <td>PI</td>\n",
       "      <td>RW</td>\n",
       "      <td>6.3</td>\n",
       "      <td>2.0</td>\n",
       "      <td>1.0</td>\n",
       "      <td>0.0</td>\n",
       "      <td>250.0</td>\n",
       "      <td>103.0</td>\n",
       "      <td>Maribyrnong City Council</td>\n",
       "      <td>Western Metropolitan</td>\n",
       "      <td>6543.0</td>\n",
       "    </tr>\n",
       "  </tbody>\n",
       "</table>\n",
       "<p>34857 rows × 15 columns</p>\n",
       "</div>"
      ],
      "text/plain": [
       "           Suburb  Rooms Type      Price Method        SellerG  Distance  \\\n",
       "0      Abbotsford      2    h        NaN     SS         Jellis       2.5   \n",
       "1      Abbotsford      2    h  1480000.0      S         Biggin       2.5   \n",
       "2      Abbotsford      2    h  1035000.0      S         Biggin       2.5   \n",
       "3      Abbotsford      3    u        NaN     VB         Rounds       2.5   \n",
       "4      Abbotsford      3    h  1465000.0     SP         Biggin       2.5   \n",
       "...           ...    ...  ...        ...    ...            ...       ...   \n",
       "34852  Yarraville      4    h  1480000.0     PI            Jas       6.3   \n",
       "34853  Yarraville      2    h   888000.0     SP        Sweeney       6.3   \n",
       "34854  Yarraville      2    t   705000.0      S            Jas       6.3   \n",
       "34855  Yarraville      3    h  1140000.0     SP  hockingstuart       6.3   \n",
       "34856  Yarraville      2    h  1020000.0     PI             RW       6.3   \n",
       "\n",
       "       Bedroom2  Bathroom  Car  Landsize  BuildingArea  \\\n",
       "0           2.0       1.0  1.0     126.0           NaN   \n",
       "1           2.0       1.0  1.0     202.0           NaN   \n",
       "2           2.0       1.0  0.0     156.0          79.0   \n",
       "3           3.0       2.0  1.0       0.0           NaN   \n",
       "4           3.0       2.0  0.0     134.0         150.0   \n",
       "...         ...       ...  ...       ...           ...   \n",
       "34852       4.0       1.0  3.0     593.0           NaN   \n",
       "34853       2.0       2.0  1.0      98.0         104.0   \n",
       "34854       2.0       1.0  2.0     220.0         120.0   \n",
       "34855       NaN       NaN  NaN       NaN           NaN   \n",
       "34856       2.0       1.0  0.0     250.0         103.0   \n",
       "\n",
       "                    CouncilArea             Regionname  Propertycount  \n",
       "0            Yarra City Council  Northern Metropolitan         4019.0  \n",
       "1            Yarra City Council  Northern Metropolitan         4019.0  \n",
       "2            Yarra City Council  Northern Metropolitan         4019.0  \n",
       "3            Yarra City Council  Northern Metropolitan         4019.0  \n",
       "4            Yarra City Council  Northern Metropolitan         4019.0  \n",
       "...                         ...                    ...            ...  \n",
       "34852  Maribyrnong City Council   Western Metropolitan         6543.0  \n",
       "34853  Maribyrnong City Council   Western Metropolitan         6543.0  \n",
       "34854  Maribyrnong City Council   Western Metropolitan         6543.0  \n",
       "34855  Maribyrnong City Council   Western Metropolitan         6543.0  \n",
       "34856  Maribyrnong City Council   Western Metropolitan         6543.0  \n",
       "\n",
       "[34857 rows x 15 columns]"
      ]
     },
     "execution_count": 10,
     "metadata": {},
     "output_type": "execute_result"
    }
   ],
   "source": [
    "df"
   ]
  },
  {
   "cell_type": "code",
   "execution_count": 11,
   "id": "b6bb8e01",
   "metadata": {},
   "outputs": [
    {
     "data": {
      "text/plain": [
       "Suburb               0\n",
       "Rooms                0\n",
       "Type                 0\n",
       "Price             7610\n",
       "Method               0\n",
       "SellerG              0\n",
       "Distance             1\n",
       "Bedroom2          8217\n",
       "Bathroom          8226\n",
       "Car               8728\n",
       "Landsize         11810\n",
       "BuildingArea     21115\n",
       "CouncilArea          3\n",
       "Regionname           3\n",
       "Propertycount        3\n",
       "dtype: int64"
      ]
     },
     "execution_count": 11,
     "metadata": {},
     "output_type": "execute_result"
    }
   ],
   "source": [
    "df.isnull().sum()"
   ]
  },
  {
   "cell_type": "code",
   "execution_count": 12,
   "id": "0ddaf69c",
   "metadata": {},
   "outputs": [],
   "source": [
    "df[['Propertycount', 'Distance', 'Bedroom2', 'Bathroom', 'Car']] = df[['Propertycount', 'Distance', 'Bedroom2', 'Bathroom', 'Car']].fillna(0)\n",
    "df['Landsize'] = df['Landsize'].fillna(df.Landsize.mean())\n",
    "df['BuildingArea'] = df['BuildingArea'].fillna(df.BuildingArea.mean())"
   ]
  },
  {
   "cell_type": "code",
   "execution_count": 13,
   "id": "8c1b171a",
   "metadata": {},
   "outputs": [],
   "source": [
    "df.dropna(inplace=True)"
   ]
  },
  {
   "cell_type": "code",
   "execution_count": 14,
   "id": "4de08085",
   "metadata": {},
   "outputs": [
    {
     "data": {
      "text/plain": [
       "(27244, 15)"
      ]
     },
     "execution_count": 14,
     "metadata": {},
     "output_type": "execute_result"
    }
   ],
   "source": [
    "df.shape"
   ]
  },
  {
   "cell_type": "code",
   "execution_count": 15,
   "id": "29cc6fc3",
   "metadata": {},
   "outputs": [
    {
     "name": "stdout",
     "output_type": "stream",
     "text": [
      "<class 'pandas.core.frame.DataFrame'>\n",
      "Int64Index: 27244 entries, 1 to 34856\n",
      "Data columns (total 15 columns):\n",
      " #   Column         Non-Null Count  Dtype  \n",
      "---  ------         --------------  -----  \n",
      " 0   Suburb         27244 non-null  object \n",
      " 1   Rooms          27244 non-null  int64  \n",
      " 2   Type           27244 non-null  object \n",
      " 3   Price          27244 non-null  float64\n",
      " 4   Method         27244 non-null  object \n",
      " 5   SellerG        27244 non-null  object \n",
      " 6   Distance       27244 non-null  float64\n",
      " 7   Bedroom2       27244 non-null  float64\n",
      " 8   Bathroom       27244 non-null  float64\n",
      " 9   Car            27244 non-null  float64\n",
      " 10  Landsize       27244 non-null  float64\n",
      " 11  BuildingArea   27244 non-null  float64\n",
      " 12  CouncilArea    27244 non-null  object \n",
      " 13  Regionname     27244 non-null  object \n",
      " 14  Propertycount  27244 non-null  float64\n",
      "dtypes: float64(8), int64(1), object(6)\n",
      "memory usage: 2.7+ MB\n"
     ]
    }
   ],
   "source": [
    "df.info()"
   ]
  },
  {
   "cell_type": "code",
   "execution_count": 16,
   "id": "43cf0139",
   "metadata": {},
   "outputs": [
    {
     "data": {
      "text/plain": [
       "array(['S', 'SP', 'PI', 'VB', 'SA'], dtype=object)"
      ]
     },
     "execution_count": 16,
     "metadata": {},
     "output_type": "execute_result"
    }
   ],
   "source": [
    "df['Method'].unique()"
   ]
  },
  {
   "cell_type": "code",
   "execution_count": 17,
   "id": "44fd3383",
   "metadata": {},
   "outputs": [
    {
     "data": {
      "text/plain": [
       "array(['Biggin', 'Nelson', 'Jellis', 'Dingle', 'Purplebricks', 'Greg',\n",
       "       'LITTLE', 'Collins', 'Kay', 'Beller', 'Marshall', 'hockingstuart',\n",
       "       'Brad', 'Maddison', 'Barry', 'Airport', 'Considine', 'Rendina',\n",
       "       'Ray', 'Propertyau', 'McDonald', 'Frank', 'Prof.', 'Harcourts',\n",
       "       'Thomson', 'Buxton', 'RT', \"Sotheby's\", 'Cayzer', 'Chisholm',\n",
       "       'Brace', 'Miles', 'Holland', 'McGrath', 'Love', 'Thomas', 'Barlow',\n",
       "       'Sweeney', 'Village', 'Jas', 'Williams', 'Gunn&Co', 'Burnham',\n",
       "       'Compton', 'FN', 'Hunter', 'Raine&Horne', 'Noel', 'Hodges', 'Gary',\n",
       "       'Fletchers', 'Woodards', 'Raine', 'Alexkarbon', 'Walshe', 'Weda',\n",
       "       'Stockdale', 'Tim', 'AIME', 'Moonee', 'HAR', 'Edward', 'Philip',\n",
       "       'RW', 'North', 'MICM', 'Ascend', 'Christopher', 'Morrison',\n",
       "       'Mandy', 'R&H', 'Fletchers/One', 'Lindellas', 'Appleby', 'Assisi',\n",
       "       'One', 'Owen', 'Parkes', 'C21', \"O'Brien\", 'Bayside', 'Paul',\n",
       "       'hockingstuart/Buxton', 'First', 'Matthew', 'Melbourne',\n",
       "       'Anderson', 'Nick', 'Allens', 'Bells', 'Trimson', 'Douglas',\n",
       "       'Batty', 'GL', 'YPA', \"Tiernan's\", 'J', 'Rodney', 'Joseph',\n",
       "       'Harrington', 'Galldon', 'Chambers', 'Peter', 'Grantham',\n",
       "       'hockingstuart/Advantage', 'Garvey', \"O'Donoghues\", 'Hamilton',\n",
       "       'Bekdon', 'Ross', 'Weast', 'Century', 'Kelly', 'Property',\n",
       "       \"Private/Tiernan's\", 'Australian', 'Bustin', \"Abercromby's\",\n",
       "       'Castran', 'iTRAK', 'Del', 'Nicholson', 'JMRE', 'ASL', 'Re', 'RE',\n",
       "       'Ham', 'Darren', 'Vic', 'Scott', 'Pride', 'Morleys', 'Wilson',\n",
       "       'Buxton/Advantage', 'Whiting', 'Pagan', 'Joe', 'Red', 'Caine',\n",
       "       'Naison', 'Sweeney/Advantage', 'Nguyen', 'Domain', 'Eview',\n",
       "       'Jason', 'Professionals', \"D'Aprano\", 'Charlton', 'CASTRAN',\n",
       "       'Wood', 'Haughton', 'William', 'Coventry', 'Buckingham',\n",
       "       'Nardella', 'Reach', 'Walsh', 'Karen', 'LJ', 'Direct',\n",
       "       'Fletchers/Fletchers', 'Besser', 'Johnston', 'Redina', 'Clairmont',\n",
       "       'Changing', 'Lucas', 'Elite', 'Buxton/Find', 'W.B.', 'Leased',\n",
       "       'Win', 'New', 'Geoff', 'hockingstuart/Barry', 'Blue', 'Steveway',\n",
       "       'Dixon', 'Parkinson', 'VICPROP', 'Meadows', 'Allan', 'S&L',\n",
       "       'Crane', 'Calder', 'Homes', 'Zahn', 'Mason', 'David', 'Luxe',\n",
       "       'Prowse', 'Ken', 'iOne', 'hockingstuart/Village', 'Iconek',\n",
       "       'Luxton', 'Hooper', 'Oak', 'White', 'Weston', 'Reed', 'Oriental',\n",
       "       'Craig', 'Max', 'Rosin', 'Steller', 'Real', 'Hall', 'Icon',\n",
       "       'buyMyplace', 'Collings', 'WHITEFOX', 'Metro', '@Realty',\n",
       "       'Hoskins', 'Gardiner', 'McLennan', 'Triwest', 'PRDNationwide',\n",
       "       'Only', 'Leyton', 'Obrien', 'Maitland', 'Reliance', 'Rounds',\n",
       "       'Millership', 'iSell', 'L', 'Ash', 'Jim', 'Ace', 'Flannagan',\n",
       "       'JRW', 'Carter', 'M.J', 'iProperty', 'Hayeswinckle', 'Schroeder',\n",
       "       'iHomes', 'VICProp', 'REMAX', 'Space', 'Victory', 'Aumeca',\n",
       "       'Smart', 'Mindacom', 'Ryder', 'Asset', 'LLC', 'Sell', 'Mitchell',\n",
       "       'U', 'Nicholas', 'Keatings', 'Aquire', 'Conquest', 'Rombotis',\n",
       "       'Prime', 'Donovan', 'Community', 'Free', 'Veitch', 'Peake',\n",
       "       'Ristic', 'Upper', 'Daniel', 'Xynergy', 'VicHomes', 'Westside',\n",
       "       'Leeburn', 'TRUE', 'Leading', 'Bullen', 'Better', 'Langwell',\n",
       "       'Kaye', 'Nicholls', 'Bowman', 'Boutique', 'Just', 'Home',\n",
       "       'McNaughton', 'Black', 'The', 'Open', 'Darras', 'Roger', 'Follett',\n",
       "       'Le', 'McEwing', 'Sandhurst', 'Avion', 'Boran',\n",
       "       'hockingstuart/hockingstuart', 'Area', 'MJ', 'Eric', 'SN', 'P',\n",
       "       'PRD', 'Bombay', 'Quinta', 'T', 'Rexhepi', 'Point', 'LJH', 'Munn',\n",
       "       'Justin', 'Blackbird', 'Sweeney/Burnham', 'H', 'Branon', 'Alex',\n",
       "       'Benchmark', 'Gellibrand', 'hockingstuart/Harcourts', 'Charter',\n",
       "       'Surreal', 'Upside', 'OBrien', 'Meallin', 'JY', 'Mark', 'For',\n",
       "       'Leaders', 'Shape', 'McGrath/Langwell', 'Benlor', 'Burns',\n",
       "       'K.R.Peters', 'Buxton/Buxton', 'Buxton/Marshall', 'CarlinSmith',\n",
       "       'hockingstuart/Sweeney', 'People', 'hockingstuart/Biggin', 'Mega',\n",
       "       'Skad', 'Wyndham', 'Create', 'Janice', 'G&H', 'Commercial', 'PSP',\n",
       "       'Unity', 'hockingstuart/Marshall', 'McGrath/First', 'Spencer',\n",
       "       'Sanctuary'], dtype=object)"
      ]
     },
     "execution_count": 17,
     "metadata": {},
     "output_type": "execute_result"
    }
   ],
   "source": [
    "df['SellerG'].unique()"
   ]
  },
  {
   "cell_type": "code",
   "execution_count": 18,
   "id": "95f27d4c",
   "metadata": {},
   "outputs": [
    {
     "data": {
      "text/plain": [
       "array(['Yarra City Council', 'Moonee Valley City Council',\n",
       "       'Port Phillip City Council', 'Darebin City Council',\n",
       "       'Hobsons Bay City Council', 'Stonnington City Council',\n",
       "       'Boroondara City Council', 'Monash City Council',\n",
       "       'Glen Eira City Council', 'Whitehorse City Council',\n",
       "       'Maribyrnong City Council', 'Bayside City Council',\n",
       "       'Moreland City Council', 'Manningham City Council',\n",
       "       'Melbourne City Council', 'Banyule City Council',\n",
       "       'Brimbank City Council', 'Kingston City Council',\n",
       "       'Hume City Council', 'Knox City Council', 'Maroondah City Council',\n",
       "       'Casey City Council', 'Melton City Council',\n",
       "       'Greater Dandenong City Council', 'Nillumbik Shire Council',\n",
       "       'Whittlesea City Council', 'Frankston City Council',\n",
       "       'Macedon Ranges Shire Council', 'Yarra Ranges Shire Council',\n",
       "       'Wyndham City Council', 'Cardinia Shire Council',\n",
       "       'Moorabool Shire Council', 'Mitchell Shire Council'], dtype=object)"
      ]
     },
     "execution_count": 18,
     "metadata": {},
     "output_type": "execute_result"
    }
   ],
   "source": [
    "df['CouncilArea'].unique()"
   ]
  },
  {
   "cell_type": "code",
   "execution_count": 19,
   "id": "37a62c54",
   "metadata": {},
   "outputs": [
    {
     "data": {
      "text/plain": [
       "array(['Northern Metropolitan', 'Western Metropolitan',\n",
       "       'Southern Metropolitan', 'Eastern Metropolitan',\n",
       "       'South-Eastern Metropolitan', 'Eastern Victoria',\n",
       "       'Northern Victoria', 'Western Victoria'], dtype=object)"
      ]
     },
     "execution_count": 19,
     "metadata": {},
     "output_type": "execute_result"
    }
   ],
   "source": [
    "df['Regionname'].unique()"
   ]
  },
  {
   "cell_type": "code",
   "execution_count": 20,
   "id": "eca27303",
   "metadata": {},
   "outputs": [],
   "source": [
    "df = pd.get_dummies(df, drop_first=True)"
   ]
  },
  {
   "cell_type": "code",
   "execution_count": 21,
   "id": "24a40dec",
   "metadata": {},
   "outputs": [
    {
     "data": {
      "text/html": [
       "<div>\n",
       "<style scoped>\n",
       "    .dataframe tbody tr th:only-of-type {\n",
       "        vertical-align: middle;\n",
       "    }\n",
       "\n",
       "    .dataframe tbody tr th {\n",
       "        vertical-align: top;\n",
       "    }\n",
       "\n",
       "    .dataframe thead th {\n",
       "        text-align: right;\n",
       "    }\n",
       "</style>\n",
       "<table border=\"1\" class=\"dataframe\">\n",
       "  <thead>\n",
       "    <tr style=\"text-align: right;\">\n",
       "      <th></th>\n",
       "      <th>Rooms</th>\n",
       "      <th>Price</th>\n",
       "      <th>Distance</th>\n",
       "      <th>Bedroom2</th>\n",
       "      <th>Bathroom</th>\n",
       "      <th>Car</th>\n",
       "      <th>Landsize</th>\n",
       "      <th>BuildingArea</th>\n",
       "      <th>Propertycount</th>\n",
       "      <th>Suburb_Aberfeldie</th>\n",
       "      <th>...</th>\n",
       "      <th>CouncilArea_Wyndham City Council</th>\n",
       "      <th>CouncilArea_Yarra City Council</th>\n",
       "      <th>CouncilArea_Yarra Ranges Shire Council</th>\n",
       "      <th>Regionname_Eastern Victoria</th>\n",
       "      <th>Regionname_Northern Metropolitan</th>\n",
       "      <th>Regionname_Northern Victoria</th>\n",
       "      <th>Regionname_South-Eastern Metropolitan</th>\n",
       "      <th>Regionname_Southern Metropolitan</th>\n",
       "      <th>Regionname_Western Metropolitan</th>\n",
       "      <th>Regionname_Western Victoria</th>\n",
       "    </tr>\n",
       "  </thead>\n",
       "  <tbody>\n",
       "    <tr>\n",
       "      <th>1</th>\n",
       "      <td>2</td>\n",
       "      <td>1480000.0</td>\n",
       "      <td>2.5</td>\n",
       "      <td>2.0</td>\n",
       "      <td>1.0</td>\n",
       "      <td>1.0</td>\n",
       "      <td>202.0</td>\n",
       "      <td>160.2564</td>\n",
       "      <td>4019.0</td>\n",
       "      <td>0</td>\n",
       "      <td>...</td>\n",
       "      <td>0</td>\n",
       "      <td>1</td>\n",
       "      <td>0</td>\n",
       "      <td>0</td>\n",
       "      <td>1</td>\n",
       "      <td>0</td>\n",
       "      <td>0</td>\n",
       "      <td>0</td>\n",
       "      <td>0</td>\n",
       "      <td>0</td>\n",
       "    </tr>\n",
       "    <tr>\n",
       "      <th>2</th>\n",
       "      <td>2</td>\n",
       "      <td>1035000.0</td>\n",
       "      <td>2.5</td>\n",
       "      <td>2.0</td>\n",
       "      <td>1.0</td>\n",
       "      <td>0.0</td>\n",
       "      <td>156.0</td>\n",
       "      <td>79.0000</td>\n",
       "      <td>4019.0</td>\n",
       "      <td>0</td>\n",
       "      <td>...</td>\n",
       "      <td>0</td>\n",
       "      <td>1</td>\n",
       "      <td>0</td>\n",
       "      <td>0</td>\n",
       "      <td>1</td>\n",
       "      <td>0</td>\n",
       "      <td>0</td>\n",
       "      <td>0</td>\n",
       "      <td>0</td>\n",
       "      <td>0</td>\n",
       "    </tr>\n",
       "    <tr>\n",
       "      <th>4</th>\n",
       "      <td>3</td>\n",
       "      <td>1465000.0</td>\n",
       "      <td>2.5</td>\n",
       "      <td>3.0</td>\n",
       "      <td>2.0</td>\n",
       "      <td>0.0</td>\n",
       "      <td>134.0</td>\n",
       "      <td>150.0000</td>\n",
       "      <td>4019.0</td>\n",
       "      <td>0</td>\n",
       "      <td>...</td>\n",
       "      <td>0</td>\n",
       "      <td>1</td>\n",
       "      <td>0</td>\n",
       "      <td>0</td>\n",
       "      <td>1</td>\n",
       "      <td>0</td>\n",
       "      <td>0</td>\n",
       "      <td>0</td>\n",
       "      <td>0</td>\n",
       "      <td>0</td>\n",
       "    </tr>\n",
       "    <tr>\n",
       "      <th>5</th>\n",
       "      <td>3</td>\n",
       "      <td>850000.0</td>\n",
       "      <td>2.5</td>\n",
       "      <td>3.0</td>\n",
       "      <td>2.0</td>\n",
       "      <td>1.0</td>\n",
       "      <td>94.0</td>\n",
       "      <td>160.2564</td>\n",
       "      <td>4019.0</td>\n",
       "      <td>0</td>\n",
       "      <td>...</td>\n",
       "      <td>0</td>\n",
       "      <td>1</td>\n",
       "      <td>0</td>\n",
       "      <td>0</td>\n",
       "      <td>1</td>\n",
       "      <td>0</td>\n",
       "      <td>0</td>\n",
       "      <td>0</td>\n",
       "      <td>0</td>\n",
       "      <td>0</td>\n",
       "    </tr>\n",
       "    <tr>\n",
       "      <th>6</th>\n",
       "      <td>4</td>\n",
       "      <td>1600000.0</td>\n",
       "      <td>2.5</td>\n",
       "      <td>3.0</td>\n",
       "      <td>1.0</td>\n",
       "      <td>2.0</td>\n",
       "      <td>120.0</td>\n",
       "      <td>142.0000</td>\n",
       "      <td>4019.0</td>\n",
       "      <td>0</td>\n",
       "      <td>...</td>\n",
       "      <td>0</td>\n",
       "      <td>1</td>\n",
       "      <td>0</td>\n",
       "      <td>0</td>\n",
       "      <td>1</td>\n",
       "      <td>0</td>\n",
       "      <td>0</td>\n",
       "      <td>0</td>\n",
       "      <td>0</td>\n",
       "      <td>0</td>\n",
       "    </tr>\n",
       "  </tbody>\n",
       "</table>\n",
       "<p>5 rows × 745 columns</p>\n",
       "</div>"
      ],
      "text/plain": [
       "   Rooms      Price  Distance  Bedroom2  Bathroom  Car  Landsize  \\\n",
       "1      2  1480000.0       2.5       2.0       1.0  1.0     202.0   \n",
       "2      2  1035000.0       2.5       2.0       1.0  0.0     156.0   \n",
       "4      3  1465000.0       2.5       3.0       2.0  0.0     134.0   \n",
       "5      3   850000.0       2.5       3.0       2.0  1.0      94.0   \n",
       "6      4  1600000.0       2.5       3.0       1.0  2.0     120.0   \n",
       "\n",
       "   BuildingArea  Propertycount  Suburb_Aberfeldie  ...  \\\n",
       "1      160.2564         4019.0                  0  ...   \n",
       "2       79.0000         4019.0                  0  ...   \n",
       "4      150.0000         4019.0                  0  ...   \n",
       "5      160.2564         4019.0                  0  ...   \n",
       "6      142.0000         4019.0                  0  ...   \n",
       "\n",
       "   CouncilArea_Wyndham City Council  CouncilArea_Yarra City Council  \\\n",
       "1                                 0                               1   \n",
       "2                                 0                               1   \n",
       "4                                 0                               1   \n",
       "5                                 0                               1   \n",
       "6                                 0                               1   \n",
       "\n",
       "   CouncilArea_Yarra Ranges Shire Council  Regionname_Eastern Victoria  \\\n",
       "1                                       0                            0   \n",
       "2                                       0                            0   \n",
       "4                                       0                            0   \n",
       "5                                       0                            0   \n",
       "6                                       0                            0   \n",
       "\n",
       "   Regionname_Northern Metropolitan  Regionname_Northern Victoria  \\\n",
       "1                                 1                             0   \n",
       "2                                 1                             0   \n",
       "4                                 1                             0   \n",
       "5                                 1                             0   \n",
       "6                                 1                             0   \n",
       "\n",
       "   Regionname_South-Eastern Metropolitan  Regionname_Southern Metropolitan  \\\n",
       "1                                      0                                 0   \n",
       "2                                      0                                 0   \n",
       "4                                      0                                 0   \n",
       "5                                      0                                 0   \n",
       "6                                      0                                 0   \n",
       "\n",
       "   Regionname_Western Metropolitan  Regionname_Western Victoria  \n",
       "1                                0                            0  \n",
       "2                                0                            0  \n",
       "4                                0                            0  \n",
       "5                                0                            0  \n",
       "6                                0                            0  \n",
       "\n",
       "[5 rows x 745 columns]"
      ]
     },
     "execution_count": 21,
     "metadata": {},
     "output_type": "execute_result"
    }
   ],
   "source": [
    "df.head()"
   ]
  },
  {
   "cell_type": "code",
   "execution_count": 22,
   "id": "2fd99ecb",
   "metadata": {},
   "outputs": [
    {
     "data": {
      "text/plain": [
       "(27244, 745)"
      ]
     },
     "execution_count": 22,
     "metadata": {},
     "output_type": "execute_result"
    }
   ],
   "source": [
    "df.shape"
   ]
  },
  {
   "cell_type": "code",
   "execution_count": 23,
   "id": "2e73daec",
   "metadata": {},
   "outputs": [],
   "source": [
    "X = df.drop('Price', axis=1)\n",
    "y = df['Price']"
   ]
  },
  {
   "cell_type": "code",
   "execution_count": 24,
   "id": "b4c51bd1",
   "metadata": {},
   "outputs": [],
   "source": [
    "from sklearn.model_selection import train_test_split\n",
    "X_train, X_test, y_train, y_test = train_test_split(X, y, test_size=0.2, random_state=10)"
   ]
  },
  {
   "cell_type": "code",
   "execution_count": 25,
   "id": "3679138b",
   "metadata": {},
   "outputs": [
    {
     "data": {
      "text/plain": [
       "(21795, 744)"
      ]
     },
     "execution_count": 25,
     "metadata": {},
     "output_type": "execute_result"
    }
   ],
   "source": [
    "X_train.shape"
   ]
  },
  {
   "cell_type": "code",
   "execution_count": 26,
   "id": "66bd83be",
   "metadata": {},
   "outputs": [
    {
     "data": {
      "text/plain": [
       "(5449, 744)"
      ]
     },
     "execution_count": 26,
     "metadata": {},
     "output_type": "execute_result"
    }
   ],
   "source": [
    "X_test.shape"
   ]
  },
  {
   "cell_type": "code",
   "execution_count": 27,
   "id": "0be1832f",
   "metadata": {},
   "outputs": [
    {
     "data": {
      "text/plain": [
       "LinearRegression()"
      ]
     },
     "execution_count": 27,
     "metadata": {},
     "output_type": "execute_result"
    }
   ],
   "source": [
    "from sklearn.linear_model import LinearRegression\n",
    "reg = LinearRegression()\n",
    "reg.fit(X_train, y_train)"
   ]
  },
  {
   "cell_type": "code",
   "execution_count": 28,
   "id": "6265bc64",
   "metadata": {},
   "outputs": [
    {
     "data": {
      "text/plain": [
       "0.6791636224332429"
      ]
     },
     "execution_count": 28,
     "metadata": {},
     "output_type": "execute_result"
    }
   ],
   "source": [
    "reg.score(X_test, y_test)"
   ]
  },
  {
   "cell_type": "code",
   "execution_count": 29,
   "id": "bbf6adec",
   "metadata": {},
   "outputs": [
    {
     "data": {
      "text/plain": [
       "0.6785830616655293"
      ]
     },
     "execution_count": 29,
     "metadata": {},
     "output_type": "execute_result"
    }
   ],
   "source": [
    "reg.score(X_train, y_train)"
   ]
  },
  {
   "cell_type": "code",
   "execution_count": 30,
   "id": "791c8794",
   "metadata": {},
   "outputs": [
    {
     "data": {
      "text/plain": [
       "Ridge(alpha=50, max_iter=100)"
      ]
     },
     "execution_count": 30,
     "metadata": {},
     "output_type": "execute_result"
    }
   ],
   "source": [
    "ridge_reg= Ridge(alpha=50, max_iter=100,)\n",
    "ridge_reg.fit(X_train, y_train)"
   ]
  },
  {
   "cell_type": "code",
   "execution_count": 31,
   "id": "7b2be9db",
   "metadata": {},
   "outputs": [
    {
     "data": {
      "text/plain": [
       "0.671696361807613"
      ]
     },
     "execution_count": 31,
     "metadata": {},
     "output_type": "execute_result"
    }
   ],
   "source": [
    "ridge_reg.score(X_test, y_test)"
   ]
  },
  {
   "cell_type": "code",
   "execution_count": 32,
   "id": "7c07c78a",
   "metadata": {},
   "outputs": [
    {
     "data": {
      "text/plain": [
       "0.6629977947456143"
      ]
     },
     "execution_count": 32,
     "metadata": {},
     "output_type": "execute_result"
    }
   ],
   "source": [
    "ridge_reg.score(X_train, y_train)"
   ]
  },
  {
   "cell_type": "code",
   "execution_count": 33,
   "id": "3b82615e",
   "metadata": {},
   "outputs": [
    {
     "name": "stderr",
     "output_type": "stream",
     "text": [
      "C:\\New folder\\lib\\site-packages\\sklearn\\linear_model\\_coordinate_descent.py:529: ConvergenceWarning: Objective did not converge. You might want to increase the number of iterations. Duality gap: 1492660374367812.2, tolerance: 889870787172.7263\n",
      "  model = cd_fast.enet_coordinate_descent(\n"
     ]
    },
    {
     "data": {
      "text/plain": [
       "Lasso(alpha=50, max_iter=100)"
      ]
     },
     "execution_count": 33,
     "metadata": {},
     "output_type": "execute_result"
    }
   ],
   "source": [
    "lasso_reg = Lasso(alpha=50, max_iter=100)\n",
    "lasso_reg.fit(X_train, y_train)"
   ]
  },
  {
   "cell_type": "code",
   "execution_count": 34,
   "id": "7c760237",
   "metadata": {},
   "outputs": [
    {
     "data": {
      "text/plain": [
       "0.6811600277422005"
      ]
     },
     "execution_count": 34,
     "metadata": {},
     "output_type": "execute_result"
    }
   ],
   "source": [
    "lasso_reg.score(X_test, y_test)"
   ]
  },
  {
   "cell_type": "code",
   "execution_count": 35,
   "id": "3dc00098",
   "metadata": {},
   "outputs": [
    {
     "data": {
      "text/plain": [
       "0.6741287418713302"
      ]
     },
     "execution_count": 35,
     "metadata": {},
     "output_type": "execute_result"
    }
   ],
   "source": [
    "lasso_reg.score(X_train, y_train)"
   ]
  },
  {
   "cell_type": "code",
   "execution_count": 37,
   "id": "d3e62a51",
   "metadata": {},
   "outputs": [],
   "source": [
    "from sklearn.linear_model import LinearRegression"
   ]
  },
  {
   "cell_type": "code",
   "execution_count": 38,
   "id": "7deda131",
   "metadata": {},
   "outputs": [],
   "source": [
    "regression_model=LinearRegression()"
   ]
  },
  {
   "cell_type": "code",
   "execution_count": 40,
   "id": "f8affebc",
   "metadata": {},
   "outputs": [
    {
     "data": {
      "text/plain": [
       "LinearRegression()"
      ]
     },
     "execution_count": 40,
     "metadata": {},
     "output_type": "execute_result"
    }
   ],
   "source": [
    "regression_model.fit(X_train,y_train)"
   ]
  },
  {
   "cell_type": "code",
   "execution_count": 45,
   "id": "581b9249",
   "metadata": {},
   "outputs": [
    {
     "data": {
      "text/plain": [
       "0.6791636224332429"
      ]
     },
     "execution_count": 45,
     "metadata": {},
     "output_type": "execute_result"
    }
   ],
   "source": [
    "regression_model.score(X_test,y_test)"
   ]
  },
  {
   "cell_type": "code",
   "execution_count": 46,
   "id": "322e3686",
   "metadata": {},
   "outputs": [
    {
     "data": {
      "text/plain": [
       "array([1494024.20182305,   90165.42938716, 2154199.85703369, ...,\n",
       "       1143306.74102195,  466825.08704791,  657391.91893432])"
      ]
     },
     "execution_count": 46,
     "metadata": {},
     "output_type": "execute_result"
    }
   ],
   "source": [
    "Predicted_Price=regression_model.predict(X_test)\n",
    "Predicted_Price"
   ]
  },
  {
   "cell_type": "code",
   "execution_count": 47,
   "id": "e92b67be",
   "metadata": {},
   "outputs": [],
   "source": [
    "mse=mean_squared_error(y_test,Predicted_Price)\n",
    "r2 = r2_score(y_test,Predicted_Price)"
   ]
  },
  {
   "cell_type": "code",
   "execution_count": 48,
   "id": "a44ce0e4",
   "metadata": {},
   "outputs": [
    {
     "name": "stdout",
     "output_type": "stream",
     "text": [
      "Slope: [ 2.68003373e+05 -4.93117297e+04 -8.83708649e+04  1.27907805e+05\n",
      "  4.20480554e+04  2.31334303e+00  3.65060295e+01  5.92224869e-01\n",
      "  1.82558558e+05 -5.45960590e+04 -2.13645152e+04  2.74034622e+05\n",
      "  7.42045136e+04  2.05901629e+05  1.59108788e+05 -9.15459105e+04\n",
      " -1.67416178e+05 -3.17204812e+04  9.87600738e+04 -1.16524895e+05\n",
      " -5.63662010e+04 -5.21320300e+03 -4.08503517e+04 -2.63204674e+05\n",
      " -1.33093000e+05 -2.27698641e+05  5.34175704e+04 -1.29964830e+05\n",
      "  1.39333702e+05  2.71463177e+04  9.40545329e+04  2.15540157e+04\n",
      " -2.33121682e-07  5.08935061e+04  1.83444371e+05 -3.80426364e+05\n",
      "  7.56436761e+04 -2.26136409e+04  2.30935339e+04  2.66193443e+05\n",
      "  1.53466019e+05 -1.34260050e+05 -8.59536545e+04  3.63518901e+05\n",
      "  1.90189509e+05  2.81964028e+05  1.85929321e+05 -1.29925076e+05\n",
      " -1.01703979e+05  3.32423373e+05 -1.53241803e+05 -5.65811752e+04\n",
      " -6.33841811e+04  3.67792939e+04  3.95620706e+04  2.25731025e+04\n",
      " -2.37432042e+04 -3.41427221e-06 -1.89376675e+05  1.31197113e+05\n",
      " -1.63207487e+05  5.81304532e+04 -2.11360509e+05 -2.83869490e+05\n",
      " -7.12037987e+04 -4.03423836e+04 -8.94200519e+04  6.57257399e+04\n",
      " -1.24475177e+05  5.61138920e+05  8.12776174e+04  2.65516941e+05\n",
      " -9.38113080e+03 -1.89585031e+05  3.98824898e+05 -9.64388052e+04\n",
      " -2.17463638e+05  9.30874414e+04  2.30774643e+03  1.50222899e+04\n",
      " -7.65250597e+04  3.31570823e+05 -5.57826855e+04 -1.96132736e+05\n",
      " -2.03673326e+05 -4.01955262e+05 -8.88227946e+04 -2.44517993e+05\n",
      "  1.21153014e+05  2.09586570e+05 -1.10707879e+05 -2.23976951e+05\n",
      " -1.05097842e+05  3.07772295e+04 -8.86219395e+04  1.63695714e+04\n",
      "  5.90831525e+04  1.63559367e+04 -5.75330351e+04 -1.25072371e+04\n",
      " -1.21817540e+04  7.63404560e+04 -1.56828612e+05 -4.09769834e+04\n",
      "  9.63257942e+04 -3.01267171e+05  1.02576258e+05 -7.87376008e+04\n",
      "  5.07154615e+04  2.86978241e+05 -2.88897859e+04  1.86610271e+04\n",
      " -1.78191607e+05 -1.76824361e+05  3.00213318e+05 -1.77947065e+05\n",
      " -3.16089958e+05  7.05498263e+03  3.79238634e+04  1.18367892e+05\n",
      " -2.91960586e+05 -1.61996381e+05  3.20720296e+05  3.07994311e+05\n",
      "  2.40602776e+05  9.80429593e+04 -1.29639860e+04 -2.26875707e+05\n",
      "  1.59753010e+04 -1.43219988e+05 -2.41764076e+05 -1.41477923e+04\n",
      "  1.16893646e+05  5.05046514e+04  2.44457350e+04 -2.25282717e+05\n",
      "  1.14332875e+05  1.11010852e+05 -6.50660555e+04  1.94684603e+05\n",
      "  2.38581561e-06  1.67970104e+05  2.40604167e+05 -1.03714293e+05\n",
      " -4.59658500e+04 -7.95129892e+04  2.68235382e+05 -8.09151431e+04\n",
      "  3.99900112e+05 -2.03717422e+05  1.44987813e+05  1.99716118e+05\n",
      " -2.94591735e+05 -3.66282351e+04 -9.47039369e+04  2.92018485e+05\n",
      " -5.19086983e+04 -2.32602430e+05  5.99494665e+04  5.88374173e+04\n",
      " -1.32444748e+05  1.65692724e+05  1.56420817e+05 -2.47463684e+05\n",
      " -2.86799275e+04 -2.74510798e+05 -1.52802134e+05  3.30487681e+05\n",
      " -1.09001493e+05  4.33882971e+04 -1.54008268e+05 -3.99407871e+05\n",
      " -4.91622092e+05 -9.54503705e+04 -1.55956589e+04  1.42424266e+03\n",
      "  7.28792496e+04 -1.31628992e+05 -2.00799606e+05 -4.65776863e+04\n",
      "  4.34828481e+05 -1.37251303e+05  7.81117706e-07 -1.34904457e+05\n",
      "  4.25229766e+04 -4.12693857e+04  6.04990216e+04  1.22215360e+05\n",
      " -2.08027276e+04 -8.77978081e+04 -7.77184948e+04 -1.68021573e+05\n",
      "  4.08806119e+04  8.89348036e+04 -8.43408539e+04 -7.81190678e+04\n",
      "  5.17194304e+04 -5.74498889e+04 -7.28095754e+04 -5.68635646e+04\n",
      " -1.13901569e+05  9.24192551e+04 -1.48548931e+03 -1.64559682e+05\n",
      "  8.10438731e+03  9.48846149e+04  7.15912808e+04  6.00748176e+04\n",
      " -7.61544722e+04  3.93990223e+05  1.53332553e+04 -2.41364227e+04\n",
      "  2.30790712e+05 -2.65080641e+04  2.71678263e+04 -1.51971747e+04\n",
      "  7.40015161e+04 -9.47150339e+04  1.04856991e+05  1.46120272e+05\n",
      " -2.87494630e+03  5.56117837e+05 -1.18644356e+05  1.02091224e+05\n",
      "  1.47806958e+04  5.53721205e+04 -8.93849379e+04 -3.08977108e+05\n",
      "  5.93259507e+04 -1.15182447e+05 -1.66962641e+05  1.51979002e+05\n",
      "  2.05907412e+04  2.06346789e+05 -4.17941654e+04  4.26137651e+02\n",
      "  8.28033967e+04 -1.69524661e+05 -5.75241524e+04  8.07260521e+04\n",
      " -1.03200296e+03 -3.99385661e+04  5.21796767e+05  1.57314746e+05\n",
      "  9.25980163e+04  1.57322139e+04  7.14933452e+04  1.06326942e+04\n",
      " -5.27815014e+04 -3.92057023e+05  1.33851307e+05  9.21505721e+04\n",
      "  2.49649496e+05  2.01525957e+05  3.65375916e+05 -8.79832179e+03\n",
      "  1.73585615e+05  2.53999673e+05  2.60489317e+05 -1.88358437e+05\n",
      " -7.57151334e+04 -3.11002936e+05 -6.41256087e+04  5.25839437e+05\n",
      "  6.79468951e+04 -5.72862829e+04  4.27959722e+04  2.56230648e+05\n",
      "  4.45872851e+04  4.35977011e+04 -1.11874135e+05 -1.41311708e+05\n",
      "  4.25079262e+05 -2.35609947e+05 -1.83463278e+05 -5.61343303e+04\n",
      " -1.75217660e+05  1.85272196e+05  8.47247041e+04 -1.58773490e+05\n",
      "  1.71845507e+05  3.42744243e+04  3.58178588e+04  3.26950642e+05\n",
      " -2.15570754e+05 -8.76864429e+04 -1.95954472e+05 -5.81548332e+04\n",
      " -9.46792877e+04 -3.83566131e+05 -6.73688540e+04 -1.15128959e+05\n",
      "  3.32179997e+04  6.53816059e+04 -3.25526437e+05 -1.44061703e+05\n",
      "  7.11835207e+04 -1.82060696e+05  4.97889556e+05  6.36556655e+04\n",
      " -6.22904733e+04 -1.35479654e+05  4.29436725e+03  1.10461888e+05\n",
      " -5.46687321e+04 -9.47554869e+04 -3.96427021e+04 -1.60968921e-06\n",
      "  1.43430320e+05 -1.67023855e+05  2.24307119e+05 -3.88727990e+04\n",
      "  5.50124746e+04  1.35309199e+05 -3.39054900e+04  6.82278310e+03\n",
      "  5.90387638e+04  1.30443510e+05 -6.93747122e+04 -2.43309859e+04\n",
      " -3.77260391e+05  1.98866356e+05  1.93825330e+05 -2.81240204e+05\n",
      " -2.62765985e+05  1.88276207e+05 -1.20098412e-06 -4.16614849e+03\n",
      "  6.05271921e+04 -1.16000088e+05 -2.66042564e+05 -1.58343927e+05\n",
      " -6.26364679e+04 -6.75395834e+04  5.34871185e+04 -6.16159986e+04\n",
      " -1.70514492e+05  7.83999000e+04  4.03773761e+05 -8.94657071e+04\n",
      "  2.93011248e+05  2.10830630e+04 -1.58481282e+05  1.67969784e+05\n",
      "  3.73337417e+04  3.67820525e+05 -1.11427241e+05 -4.69080987e-07\n",
      "  4.77152114e+04 -1.54599258e+04 -1.05512199e+05 -2.75849377e+05\n",
      " -4.78413673e+05  7.62100991e+04  7.82443987e+04  3.93689383e+04\n",
      "  1.87416836e+04 -3.53213276e+04  2.15054356e+05  6.19883487e+05\n",
      "  3.93712315e+05 -3.10275936e-07  5.41210635e+05  1.20735962e+05\n",
      " -6.84344706e+04 -1.73991346e+04  1.62669224e+05 -1.54361644e+05\n",
      "  1.84253012e+05  2.39797661e+05  6.97482408e+03 -7.34328023e+04\n",
      "  1.89448373e+04  4.35703645e+05  2.05520664e+05  6.22178465e+04\n",
      "  3.52021602e+05  1.87080790e+05  1.18294807e+05  4.53652071e+05\n",
      " -6.68181341e+03  5.59501782e+04 -6.52462660e+02  1.07025362e+05\n",
      "  2.53995217e+05  1.25122772e+05 -1.61674061e+05  6.76559556e+03\n",
      "  1.17511198e+05  2.36165955e+05  1.17697971e+05  8.74790060e+05\n",
      "  1.89909150e+05 -1.65179435e+04 -5.81075466e+04 -1.25018320e+05\n",
      " -3.74397187e+04  1.14123441e+05  1.10840326e+05  1.45111958e+05\n",
      "  3.95721923e+04  1.85832022e+05 -1.25751174e+05  1.91634357e+04\n",
      "  1.25689146e+05 -2.49499852e+04  3.68493423e+05 -3.04426067e-07\n",
      " -8.00676041e+04  1.21734607e+05  1.25158112e-06  5.13357672e+05\n",
      "  1.55127814e+05  1.46080856e-06  1.87287270e+05  3.18527838e+05\n",
      "  1.72804930e+05 -2.26039991e+05  6.76568245e+04 -2.29925886e+05\n",
      "  1.63490424e+05 -1.87393164e+05  1.25157233e+05 -8.65612645e+03\n",
      "  3.27483909e+05 -3.24715669e+04  2.62032582e+05  1.83880359e+05\n",
      "  2.14255882e+05  1.66131675e+05 -1.29512046e-07  7.69901209e+03\n",
      " -1.22358387e+05  6.53185768e+04  6.06946180e+04  8.52677520e+04\n",
      "  7.57883528e+04  5.43276680e+04  1.46939213e+06  2.41422791e+05\n",
      " -8.81399105e+04  5.81033886e+04  4.09914159e+03 -4.89924449e+05\n",
      " -4.32479797e+04 -1.07315431e+05 -4.43386506e+04  1.10024198e+05\n",
      "  1.34229217e+05  4.05393305e+05  4.62911395e+04  1.10936617e+05\n",
      "  1.89280433e+05  2.17131348e+05  1.93516438e+05  1.18738353e+05\n",
      " -4.13759147e+04  3.80969141e-08  8.44273018e-07  1.62796821e+06\n",
      "  9.94861290e+04  1.55212903e+05  6.71608174e+04  1.06746874e+05\n",
      " -7.92508675e+04 -2.11999920e+05 -2.09710628e+05  5.62487570e+04\n",
      " -4.04668320e+05 -8.96827672e+04  1.41706281e+05  1.71221718e+05\n",
      "  9.65592883e+04  5.91705321e+05  1.17043853e+05  1.00969128e+06\n",
      " -9.77237795e+04 -1.57074091e+05  1.14018610e+05 -4.28542114e+04\n",
      "  2.59245697e+04 -9.47589662e+03  6.87091778e+04 -1.08448904e+05\n",
      "  2.91292262e+05 -5.94874187e+03 -1.00717738e+05  2.79276513e+05\n",
      "  1.90273624e+05  2.01067847e+05  7.29729038e+04 -3.46770935e+03\n",
      "  2.75631395e+04  3.09020116e+04  1.86640665e+05  1.72620639e-06\n",
      "  1.48106973e+05  1.29052887e+05  1.93090726e+05  1.10878195e+05\n",
      "  1.52518762e+05 -4.66729274e+05  3.06019892e+04  2.50792206e+05\n",
      "  1.60772087e+05  5.46313743e+04 -2.80073793e+05  5.71403697e+05\n",
      "  2.43825396e+05  1.42276195e+05  4.13013994e+05  4.29440846e+04\n",
      "  1.38820342e+05 -3.56022872e+04  1.09680169e+05  1.05615376e+05\n",
      "  7.27465435e+05 -1.38318126e+05  2.09682407e+05  2.23207900e+04\n",
      " -3.22712963e+04  1.48658251e+05  4.86948810e+04  2.03235410e+05\n",
      "  2.68668893e+05  1.43693481e+05  3.48120582e+05 -5.11242064e+05\n",
      "  5.35563963e+04  2.41779733e+05  1.82458845e+04  2.86596226e+04\n",
      " -3.12532463e+04 -1.13714793e+05  7.23391592e+04  3.30487681e+05\n",
      "  4.33392520e+05 -7.50813417e+04  1.13888601e+05  3.73516077e+05\n",
      "  2.33445388e+05  1.88095380e+04  1.60448807e+05 -1.66100574e+05\n",
      " -3.38931568e-06  4.32381893e+04  1.84104628e+05  1.07995872e+05\n",
      "  8.20029527e-07  2.36663993e+05  1.49788018e+05  2.04402121e+04\n",
      "  2.00753682e+05  1.15571536e+05  7.71474272e+05  2.56958526e+05\n",
      "  9.99433517e+04 -2.01797419e+05  1.42412830e+05  1.53510163e+05\n",
      "  1.86427908e+05  3.80632148e+04  1.12502006e+05  8.58487840e+04\n",
      "  3.07048413e+05  8.79784778e+05  6.79310768e+04 -1.52868832e+05\n",
      "  2.45548372e+05  9.57495937e+04  3.44570177e+05  1.08619732e+05\n",
      " -1.49350941e+05  1.94264679e+05  3.75368523e+05  1.30466535e+05\n",
      "  5.14424567e+04  1.39031444e+05  7.31240841e+04  1.05738785e+05\n",
      " -2.49532722e+05  9.89785428e+04  5.44393137e+04  2.45022285e+04\n",
      " -2.27685086e-06  1.04274760e+05  1.75662861e+05  3.17917684e+05\n",
      "  2.48628836e+05  3.16985719e+05  6.00169186e+05  1.71983300e+04\n",
      "  1.36615625e+05  1.33243289e+05  1.31536526e+05 -4.21648101e+04\n",
      "  2.71106694e+05  9.84636629e+04 -1.34775973e+04  2.59855273e+05\n",
      " -5.12446662e+05 -3.40369920e+05  3.77816551e+04  1.43722759e+05\n",
      "  5.26573127e+04  1.41462369e+05  4.74818987e+04  3.18336248e+05\n",
      "  1.09599646e+05  9.31447561e+04 -8.22797676e+04  7.10763741e+04\n",
      "  6.13766397e+04 -4.47440664e+05  5.04152925e+05  1.52719365e+05\n",
      "  1.07392637e+05  1.74957169e+05  1.09808869e+05  1.01797982e+05\n",
      "  1.18492547e+05  8.30782468e+04 -2.17758743e+04  5.82081453e+04\n",
      " -1.28544449e+05  6.28642738e-09 -4.10936014e+05  1.98580937e+05\n",
      "  2.14988062e+05  1.59871758e+05 -5.18182936e+05  2.28960503e+05\n",
      " -3.37909975e+05  2.72810775e+04 -4.50953540e+05 -2.05269749e+05\n",
      "  1.17824990e+05  8.31891396e+04 -3.94192855e+05  9.55699199e+05\n",
      "  1.43599385e+05  2.16182369e+05  4.16020257e+04  1.88825652e-07\n",
      "  9.07083002e+04 -2.56100765e+05  1.10213125e+05  9.35579237e+03\n",
      "  1.68822635e+05  6.08060945e+05 -7.34124682e+04  1.93447369e+05\n",
      " -7.42408822e+04 -3.33774079e+04 -4.41807023e+05 -4.96396681e+04\n",
      "  1.80170010e+05  1.22014672e+05 -2.20394873e+05  4.00672434e-07\n",
      "  3.70165450e+05  1.98075939e+05  2.51929163e+04  7.12752119e+05\n",
      " -9.56196746e+04  5.72367024e+03 -1.15394970e+04 -1.91968929e+05\n",
      "  1.65121670e+05  1.81579916e+03  9.63787016e+05  7.38393414e+04\n",
      "  1.23662148e+05  9.86881017e+05  2.22116996e+05 -2.54527133e+04\n",
      " -2.45679068e+04  3.09852338e+05  6.73500046e+04  1.16751914e+05\n",
      "  1.43686126e+05  2.25278431e+05  2.18434104e+04  3.11319275e+04\n",
      "  1.00196983e+05  6.20992560e+03 -2.39642400e+05  1.12231704e+05\n",
      " -2.32830644e-10  1.19643525e+05  7.35864564e+04  2.25831594e+05\n",
      "  2.98511388e+05 -2.14330086e+04  1.95081656e+05 -3.90353976e+04\n",
      "  0.00000000e+00  1.72985067e+05  0.00000000e+00  1.01571976e+05\n",
      "  8.13380494e+04 -1.83449981e+05  1.73480202e+05  2.22375051e+05\n",
      " -2.66098187e+04  4.31465606e+05  3.15866270e+05 -2.30492238e+05\n",
      "  2.91174321e+05  2.05700584e+05 -4.97608759e+03  3.64257894e+05\n",
      "  1.17667467e+05 -1.82236936e+04 -1.24322993e+05 -7.09972722e+04\n",
      "  1.61799822e+05  7.46323934e+04  5.62607031e+05  7.98445559e+04\n",
      " -2.08468904e+05  1.32088119e+05 -6.81447132e+02 -1.29004719e+05\n",
      "  1.98866356e+05  3.59912265e+04 -2.91476669e+04  1.04133032e+05\n",
      " -7.52647168e+04 -9.18837823e+04  7.63537657e+04  2.59580239e+05\n",
      "  7.70865005e+04  4.87686058e+04 -1.84228503e+05 -4.46897267e+04\n",
      "  6.78080012e+04  3.10012600e+05 -2.40955844e+05  3.37154925e+05\n",
      "  1.71529387e+05 -9.14324273e+02 -1.89156990e+05  2.13886067e+05]\n",
      "Intercept: 781959.1916653108\n",
      "Root mean squared error:  136132361897.16058\n",
      "R2 score:  0.6791636224332429\n"
     ]
    }
   ],
   "source": [
    "print('Slope:' ,regression_model.coef_) \n",
    "print('Intercept:', regression_model.intercept_) \n",
    "print('Root mean squared error: ', mse) \n",
    "print('R2 score: ', r2) "
   ]
  },
  {
   "cell_type": "code",
   "execution_count": null,
   "id": "69f10e1c",
   "metadata": {},
   "outputs": [],
   "source": []
  },
  {
   "cell_type": "code",
   "execution_count": null,
   "id": "ac69c12d",
   "metadata": {},
   "outputs": [],
   "source": []
  },
  {
   "cell_type": "code",
   "execution_count": null,
   "id": "2a7d5d01",
   "metadata": {},
   "outputs": [],
   "source": []
  },
  {
   "cell_type": "code",
   "execution_count": null,
   "id": "d6264a58",
   "metadata": {},
   "outputs": [],
   "source": []
  },
  {
   "cell_type": "code",
   "execution_count": null,
   "id": "9915a03e",
   "metadata": {},
   "outputs": [],
   "source": []
  },
  {
   "cell_type": "code",
   "execution_count": null,
   "id": "af1e5bd5",
   "metadata": {},
   "outputs": [],
   "source": []
  },
  {
   "cell_type": "code",
   "execution_count": null,
   "id": "d97edd73",
   "metadata": {},
   "outputs": [],
   "source": []
  },
  {
   "cell_type": "code",
   "execution_count": null,
   "id": "772bd3a9",
   "metadata": {},
   "outputs": [],
   "source": []
  },
  {
   "cell_type": "code",
   "execution_count": null,
   "id": "cd21d8b7",
   "metadata": {},
   "outputs": [],
   "source": []
  },
  {
   "cell_type": "code",
   "execution_count": null,
   "id": "51b18459",
   "metadata": {},
   "outputs": [],
   "source": []
  },
  {
   "cell_type": "code",
   "execution_count": null,
   "id": "99cdf660",
   "metadata": {},
   "outputs": [],
   "source": []
  },
  {
   "cell_type": "code",
   "execution_count": null,
   "id": "394f6a7e",
   "metadata": {},
   "outputs": [],
   "source": []
  },
  {
   "cell_type": "code",
   "execution_count": null,
   "id": "8bdb739d",
   "metadata": {},
   "outputs": [],
   "source": []
  },
  {
   "cell_type": "code",
   "execution_count": null,
   "id": "8a53658c",
   "metadata": {},
   "outputs": [],
   "source": []
  },
  {
   "cell_type": "code",
   "execution_count": null,
   "id": "c5faac60",
   "metadata": {},
   "outputs": [],
   "source": []
  },
  {
   "cell_type": "code",
   "execution_count": null,
   "id": "a9010fef",
   "metadata": {},
   "outputs": [],
   "source": []
  },
  {
   "cell_type": "code",
   "execution_count": null,
   "id": "0dd4bc96",
   "metadata": {},
   "outputs": [],
   "source": []
  },
  {
   "cell_type": "code",
   "execution_count": null,
   "id": "268fc2d0",
   "metadata": {},
   "outputs": [],
   "source": []
  },
  {
   "cell_type": "code",
   "execution_count": null,
   "id": "5b080335",
   "metadata": {},
   "outputs": [],
   "source": []
  },
  {
   "cell_type": "code",
   "execution_count": null,
   "id": "a1218ef0",
   "metadata": {},
   "outputs": [],
   "source": []
  },
  {
   "cell_type": "code",
   "execution_count": null,
   "id": "d757f26d",
   "metadata": {},
   "outputs": [],
   "source": []
  },
  {
   "cell_type": "code",
   "execution_count": null,
   "id": "2d29d189",
   "metadata": {},
   "outputs": [],
   "source": []
  },
  {
   "cell_type": "code",
   "execution_count": null,
   "id": "aa656904",
   "metadata": {},
   "outputs": [],
   "source": []
  },
  {
   "cell_type": "code",
   "execution_count": null,
   "id": "85c2554d",
   "metadata": {},
   "outputs": [],
   "source": []
  },
  {
   "cell_type": "code",
   "execution_count": null,
   "id": "0d763171",
   "metadata": {},
   "outputs": [],
   "source": []
  },
  {
   "cell_type": "code",
   "execution_count": null,
   "id": "1eb8c821",
   "metadata": {},
   "outputs": [],
   "source": []
  }
 ],
 "metadata": {
  "kernelspec": {
   "display_name": "Python 3",
   "language": "python",
   "name": "python3"
  },
  "language_info": {
   "codemirror_mode": {
    "name": "ipython",
    "version": 3
   },
   "file_extension": ".py",
   "mimetype": "text/x-python",
   "name": "python",
   "nbconvert_exporter": "python",
   "pygments_lexer": "ipython3",
   "version": "3.8.8"
  }
 },
 "nbformat": 4,
 "nbformat_minor": 5
}
